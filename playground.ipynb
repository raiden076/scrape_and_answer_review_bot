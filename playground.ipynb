{
 "cells": [
  {
   "cell_type": "code",
   "execution_count": 1,
   "metadata": {},
   "outputs": [
    {
     "name": "stdout",
     "output_type": "stream",
     "text": [
      "ok\n"
     ]
    }
   ],
   "source": [
    "print(\"ok\")"
   ]
  },
  {
   "cell_type": "code",
   "execution_count": 8,
   "metadata": {},
   "outputs": [
    {
     "name": "stdout",
     "output_type": "stream",
     "text": [
      "(1, 1.1, 'aaa', 1, 1)\n",
      "(4, 4.4, 'ddd', 4.44, 'hoge')\n",
      "(5, 5.5, 'eee', 5.55, 'foo')\n",
      "(6, None, 'fff', None, None)\n"
     ]
    }
   ],
   "source": [
    "from simplesqlite import SimpleSQLite\n",
    "\n",
    "table_name = \"sample_table\"\n",
    "con = SimpleSQLite(\"sample.sqlite\", \"w\")\n",
    "con.create_table_from_data_matrix(\n",
    "    table_name,\n",
    "    [\"attr_a\", \"attr_b\", \"attr_c\", \"attr_d\", \"attr_e\"],\n",
    "    [[1, 1.1, \"aaa\", 1,   1]])\n",
    "\n",
    "con.insert(\n",
    "    table_name,\n",
    "    record={\n",
    "        \"attr_a\": 4,\n",
    "        \"attr_b\": 4.4,\n",
    "        \"attr_c\": \"ddd\",\n",
    "        \"attr_d\": 4.44,\n",
    "        \"attr_e\": \"hoge\",\n",
    "    })\n",
    "con.insert_many(\n",
    "    table_name,\n",
    "    records=[\n",
    "        {\n",
    "            \"attr_a\": 5,\n",
    "            \"attr_b\": 5.5,\n",
    "            \"attr_c\": \"eee\",\n",
    "            \"attr_d\": 5.55,\n",
    "            \"attr_e\": \"foo\",\n",
    "        },\n",
    "        {\n",
    "            \"attr_a\": 6,\n",
    "            \"attr_c\": \"fff\",\n",
    "        },\n",
    "    ])\n",
    "\n",
    "result = con.select(select=\"*\", table_name=table_name)\n",
    "for record in result.fetchall():\n",
    "    print(record)\n"
   ]
  },
  {
   "cell_type": "code",
   "execution_count": 7,
   "metadata": {},
   "outputs": [
    {
     "ename": "TableNotFoundError",
     "evalue": "'sample_table' not found in '/mnt/c/Users/arkap/Projects/Python/scrape_and_answer_review_bot/sample.sqlite' database",
     "output_type": "error",
     "traceback": [
      "\u001b[0;31m---------------------------------------------------------------------------\u001b[0m",
      "\u001b[0;31mTableNotFoundError\u001b[0m                        Traceback (most recent call last)",
      "Cell \u001b[0;32mIn[7], line 4\u001b[0m\n\u001b[1;32m      2\u001b[0m table_name \u001b[39m=\u001b[39m \u001b[39m\"\u001b[39m\u001b[39msample_table\u001b[39m\u001b[39m\"\u001b[39m\n\u001b[1;32m      3\u001b[0m con \u001b[39m=\u001b[39m SimpleSQLite(\u001b[39m\"\u001b[39m\u001b[39msample.sqlite\u001b[39m\u001b[39m\"\u001b[39m, \u001b[39m\"\u001b[39m\u001b[39mw\u001b[39m\u001b[39m\"\u001b[39m)\n\u001b[0;32m----> 4\u001b[0m result \u001b[39m=\u001b[39m con\u001b[39m.\u001b[39;49mselect(select\u001b[39m=\u001b[39;49m\u001b[39m\"\u001b[39;49m\u001b[39m*\u001b[39;49m\u001b[39m\"\u001b[39;49m, table_name\u001b[39m=\u001b[39;49mtable_name)\n\u001b[1;32m      5\u001b[0m \u001b[39mfor\u001b[39;00m record \u001b[39min\u001b[39;00m result\u001b[39m.\u001b[39mfetchall():\n\u001b[1;32m      6\u001b[0m     \u001b[39mprint\u001b[39m(record)\n",
      "File \u001b[0;32m/mnt/c/Users/arkap/Projects/Python/scrape_and_answer_review_bot/.venv/lib/python3.11/site-packages/simplesqlite/core.py:394\u001b[0m, in \u001b[0;36mSimpleSQLite.select\u001b[0;34m(self, select, table_name, where, extra)\u001b[0m\n\u001b[1;32m    370\u001b[0m \u001b[39mdef\u001b[39;00m \u001b[39mselect\u001b[39m(\n\u001b[1;32m    371\u001b[0m     \u001b[39mself\u001b[39m,\n\u001b[1;32m    372\u001b[0m     select: Union[\u001b[39mstr\u001b[39m, AttrList],\n\u001b[0;32m   (...)\u001b[0m\n\u001b[1;32m    375\u001b[0m     extra: Optional[\u001b[39mstr\u001b[39m] \u001b[39m=\u001b[39m \u001b[39mNone\u001b[39;00m,\n\u001b[1;32m    376\u001b[0m ) \u001b[39m-\u001b[39m\u001b[39m>\u001b[39m Optional[Cursor]:\n\u001b[1;32m    377\u001b[0m     \u001b[39m\"\"\"\u001b[39;00m\n\u001b[1;32m    378\u001b[0m \u001b[39m    Send a SELECT query to the database.\u001b[39;00m\n\u001b[1;32m    379\u001b[0m \n\u001b[0;32m   (...)\u001b[0m\n\u001b[1;32m    391\u001b[0m \u001b[39m    :raises simplesqlite.OperationalError: |raises_operational_error|\u001b[39;00m\n\u001b[1;32m    392\u001b[0m \u001b[39m    \"\"\"\u001b[39;00m\n\u001b[0;32m--> 394\u001b[0m     \u001b[39mself\u001b[39;49m\u001b[39m.\u001b[39;49mverify_table_existence(table_name)\n\u001b[1;32m    396\u001b[0m     \u001b[39mreturn\u001b[39;00m \u001b[39mself\u001b[39m\u001b[39m.\u001b[39mexecute_query(\n\u001b[1;32m    397\u001b[0m         \u001b[39mstr\u001b[39m(Select(select, table_name, where, extra)),\n\u001b[1;32m    398\u001b[0m         logging\u001b[39m.\u001b[39mgetLogger()\u001b[39m.\u001b[39mfindCaller(),\n\u001b[1;32m    399\u001b[0m     )\n",
      "File \u001b[0;32m/mnt/c/Users/arkap/Projects/Python/scrape_and_answer_review_bot/.venv/lib/python3.11/site-packages/simplesqlite/core.py:1174\u001b[0m, in \u001b[0;36mSimpleSQLite.verify_table_existence\u001b[0;34m(self, table_name, allow_view)\u001b[0m\n\u001b[1;32m   1171\u001b[0m \u001b[39mif\u001b[39;00m \u001b[39mself\u001b[39m\u001b[39m.\u001b[39mhas_table(table_name, include_view\u001b[39m=\u001b[39mallow_view):\n\u001b[1;32m   1172\u001b[0m     \u001b[39mreturn\u001b[39;00m\n\u001b[0;32m-> 1174\u001b[0m \u001b[39mraise\u001b[39;00m TableNotFoundError(\u001b[39mf\u001b[39m\u001b[39m\"\u001b[39m\u001b[39m'\u001b[39m\u001b[39m{\u001b[39;00mtable_name\u001b[39m}\u001b[39;00m\u001b[39m'\u001b[39m\u001b[39m not found in \u001b[39m\u001b[39m'\u001b[39m\u001b[39m{\u001b[39;00m\u001b[39mself\u001b[39m\u001b[39m.\u001b[39mdatabase_path\u001b[39m}\u001b[39;00m\u001b[39m'\u001b[39m\u001b[39m database\u001b[39m\u001b[39m\"\u001b[39m)\n",
      "\u001b[0;31mTableNotFoundError\u001b[0m: 'sample_table' not found in '/mnt/c/Users/arkap/Projects/Python/scrape_and_answer_review_bot/sample.sqlite' database"
     ]
    }
   ],
   "source": [
    "from simplesqlite import SimpleSQLite\n",
    "table_name = \"sample_table\"\n",
    "con = SimpleSQLite(\"sample.sqlite\", \"w\")\n",
    "result = con.select(select=\"*\", table_name=table_name)\n",
    "for record in result.fetchall():\n",
    "    print(record)"
   ]
  }
 ],
 "metadata": {
  "kernelspec": {
   "display_name": ".venv",
   "language": "python",
   "name": "python3"
  },
  "language_info": {
   "codemirror_mode": {
    "name": "ipython",
    "version": 3
   },
   "file_extension": ".py",
   "mimetype": "text/x-python",
   "name": "python",
   "nbconvert_exporter": "python",
   "pygments_lexer": "ipython3",
   "version": "3.11.1 (main, Dec 25 2022, 16:29:54) [GCC 11.3.0]"
  },
  "orig_nbformat": 4,
  "vscode": {
   "interpreter": {
    "hash": "5eab333c1f0411a7c7036f0315b8dc42b7b487bdec27dcc8d4ca96a0c7cb67e4"
   }
  }
 },
 "nbformat": 4,
 "nbformat_minor": 2
}
